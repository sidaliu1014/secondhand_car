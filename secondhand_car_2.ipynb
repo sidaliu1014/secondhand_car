{
 "cells": [
  {
   "cell_type": "code",
   "execution_count": 103,
   "metadata": {},
   "outputs": [],
   "source": [
    "import pandas as pd\n",
    "#load data from csv\"\n",
    "train_data = pd.read_csv(r\"C:\\Users\\zhoum\\star\\python\\playground\\docs\\used_car_train_20200313.csv\",delimiter=\" \")\n",
    "testB_data=pd.read_csv(r\"C:\\Users\\zhoum\\star\\python\\playground\\docs\\used_car_testB_20200421.csv\",delimiter=\" \")"
   ]
  },
  {
   "cell_type": "code",
   "execution_count": 104,
   "metadata": {
    "scrolled": false
   },
   "outputs": [
    {
     "data": {
      "image/png": "[encoded data removed]",
      "text/plain": [
       "<Figure size 432x288 with 1 Axes>"
      ]
     },
     "metadata": {
      "needs_background": "light"
     },
     "output_type": "display_data"
    }
   ],
   "source": [
    "#preprocess\n",
    "import matplotlib.pyplot as plt\n",
    "train_data[\"tag\"]=\"train\"\n",
    "# remove power > 500, outliers\n",
    "train_data = train_data[train_data[\"power\"]<=500]\n",
    "testB_data[\"tag\"]=\"test\"\n",
    "data = pd.concat([train_data, testB_data], axis=0)\n",
    "\n",
    "missing = data.isnull().sum()\n",
    "missing = missing[missing > 0]\n",
    "missing.sort_values(inplace=True)\n",
    "missing.plot.bar()\n",
    "\n",
    "#create new column: used_time\n",
    "data['used_time'] = (pd.to_datetime(data['creatDate'], format='%Y%m%d', errors='coerce') - \n",
    "                            pd.to_datetime(data['regDate'], format='%Y%m%d', errors='coerce')).dt.days\n",
    "\n",
    "#create new column: city\n",
    "data['city']= data['regionCode'].apply(lambda x: str(x)[:-3])\n",
    "data[\"city\"] = pd.to_numeric(data[\"city\"])\n",
    "\n",
    "#fill nan with -1\n",
    "data[\"notRepairedDamage\"].replace(\"-\",-1,inplace=True)\n",
    "data[\"notRepairedDamage\"]=data[\"notRepairedDamage\"].astype(float)\n",
    "data.fillna({\"model\":-1,\"bodyType\":-1,\"gearbox\":-1,\"fuelType\":-1,\"used_time\":-1,\"city\":-1},inplace=True)\n"
   ]
  },
  {
   "cell_type": "code",
   "execution_count": 96,
   "metadata": {},
   "outputs": [
    {
     "name": "stdout",
     "output_type": "stream",
     "text": [
      "       SaleID    name   regDate  model  brand  bodyType  fuelType  gearbox  \\\n",
      "0           0     736  20040402   30.0      6       1.0       0.0      0.0   \n",
      "1           1    2262  20030301   40.0      1       2.0       0.0      0.0   \n",
      "2           2   14874  20040403  115.0     15       1.0       0.0      0.0   \n",
      "3           3   71865  19960908  109.0     10       0.0       0.0      1.0   \n",
      "4           4  111080  20120103  110.0      5       1.0       0.0      0.0   \n",
      "...       ...     ...       ...    ...    ...       ...       ...      ...   \n",
      "49995  249995  111443  20041005    4.0      4       0.0      -1.0      1.0   \n",
      "49996  249996  152834  20130409   65.0      1       0.0       0.0      0.0   \n",
      "49997  249997  132531  20041211    4.0      4       0.0       0.0      1.0   \n",
      "49998  249998  143405  20020702   40.0      1       4.0       0.0      1.0   \n",
      "49999  249999   78202  20090708   32.0      8       1.0       0.0      0.0   \n",
      "\n",
      "       power  kilometer  ...       v_8       v_9      v_10      v_11  \\\n",
      "0         60       12.5  ...  0.022816  0.097462 -2.881803  2.804097   \n",
      "1          0       15.0  ...  0.026597  0.020582 -4.900482  2.096338   \n",
      "2        163       12.5  ...  0.062173  0.027075 -4.846749  1.803559   \n",
      "3        193       15.0  ...  0.033395  0.000000 -4.509599  1.285940   \n",
      "4         68        5.0  ...  0.078819  0.121534 -1.896240  0.910783   \n",
      "...      ...        ...  ...       ...       ...       ...       ...   \n",
      "49995    150       15.0  ...  0.076393  0.039272  2.072901 -2.531869   \n",
      "49996    179        4.0  ...  0.108425  0.067841  1.358504 -3.290295   \n",
      "49997    147       12.5  ...  0.071968  0.042966  2.165658 -2.417885   \n",
      "49998    176       15.0  ...  0.067526  0.009006  2.030114 -2.939244   \n",
      "49999      0        3.0  ...  0.062328  0.110180 -3.689090  2.032376   \n",
      "\n",
      "           v_12      v_13      v_14    tag  used_time  city  \n",
      "0     -2.420821  0.795292  0.914762  train     4385.0   1.0  \n",
      "1     -1.030483 -1.722674  0.245522  train     4757.0   4.0  \n",
      "2      1.565330 -0.832687 -0.229963  train     4382.0   2.0  \n",
      "3     -0.501868 -2.438353 -0.478699  train     7125.0  -1.0  \n",
      "4      0.931110  2.834518  1.923482  train     1531.0   6.0  \n",
      "...         ...       ...       ...    ...        ...   ...  \n",
      "49995  1.716978 -1.063437  0.326587   test     4173.0   5.0  \n",
      "49996  4.269809  0.140524  0.556221   test     1079.0   5.0  \n",
      "49997  1.370612 -1.073133  0.270602   test     4113.0   3.0  \n",
      "49998  0.569078 -1.718245  0.316379   test     5017.0  -1.0  \n",
      "49999  0.109157  2.202828  0.847469   test     2459.0   4.0  \n",
      "\n",
      "[199713 rows x 34 columns]\n"
     ]
    }
   ],
   "source": [
    "print(data)"
   ]
  },
  {
   "cell_type": "code",
   "execution_count": 105,
   "metadata": {},
   "outputs": [],
   "source": [
    "exclude_x_columns=[\"price\",\"tag\",\"SaleID\",\"name\",\"regDate\"]"
   ]
  },
  {
   "cell_type": "code",
   "execution_count": 106,
   "metadata": {},
   "outputs": [],
   "source": [
    "import numpy as np\n",
    "train_data = data[data[\"tag\"]==\"train\"]\n",
    "testB_data = data[data[\"tag\"]==\"test\"]\n",
    "\n",
    "train_data_y = np.log(train_data[\"price\"]+1)\n",
    "train_data_x = train_data.drop(exclude_x_columns,axis=1)\n",
    "\n",
    "from sklearn.model_selection import train_test_split\n",
    "x_train,x_test,y_train,y_test = train_test_split(train_data_x,train_data_y)\n"
   ]
  },
  {
   "cell_type": "code",
   "execution_count": 107,
   "metadata": {},
   "outputs": [
    {
     "name": "stdout",
     "output_type": "stream",
     "text": [
      "{'learning_rate': 0.2}\n"
     ]
    }
   ],
   "source": [
    "#use gbdt\n",
    "from sklearn.ensemble import GradientBoostingRegressor\n",
    "from sklearn.model_selection import GridSearchCV,cross_val_score\n",
    "def build_model_gbdt(x_train,y_train):\n",
    "    estimator =GradientBoostingRegressor(loss='ls',subsample= 0.85,max_depth= 5,n_estimators = 100)\n",
    "    param_grid = { \n",
    "            'learning_rate': [0.05,0.08,0.1,0.15,0.2,0.25,0.3],\n",
    "            }\n",
    "    model = GridSearchCV(estimator, param_grid,cv=3)\n",
    "    model.fit(x_train,y_train)\n",
    "    print(model.best_params_)\n",
    "    return model\n",
    "gbdt_model=build_model_gbdt(x_train,y_train)\n"
   ]
  },
  {
   "cell_type": "code",
   "execution_count": 117,
   "metadata": {},
   "outputs": [
    {
     "name": "stdout",
     "output_type": "stream",
     "text": [
      "(37429, 29)\n",
      "(37429,)\n",
      "(37429,)\n"
     ]
    }
   ],
   "source": [
    "print(x_test.shape)\n",
    "print(y_test.shape)\n",
    "print(y_pred_gbdt.shape)"
   ]
  },
  {
   "cell_type": "code",
   "execution_count": 118,
   "metadata": {},
   "outputs": [
    {
     "name": "stdout",
     "output_type": "stream",
     "text": [
      "0.15025584153452534\n",
      "0.9578664140201557\n"
     ]
    }
   ],
   "source": [
    "from sklearn.metrics import mean_absolute_error,r2_score, make_scorer\n",
    "y_pred_gbdt=gbdt_model.predict(x_test)\n",
    "print(mean_absolute_error(y_test, y_pred_gbdt))\n",
    "print(r2_score(y_test,y_pred_gbdt))"
   ]
  },
  {
   "cell_type": "code",
   "execution_count": 108,
   "metadata": {},
   "outputs": [],
   "source": [
    "#use xgb\n",
    "import xgboost as xgb\n",
    "def build_model_xgb(x_train,y_train):\n",
    "    model = xgb.XGBRegressor(n_estimators=120, learning_rate=0.08, gamma=0, subsample=0.8,\\\n",
    "        colsample_bytree=0.9, max_depth=5) \n",
    "    model.fit(x_train, y_train)\n",
    "    return model\n",
    "xgb_model=build_model_xgb(x_train,y_train)"
   ]
  },
  {
   "cell_type": "code",
   "execution_count": 119,
   "metadata": {},
   "outputs": [
    {
     "name": "stdout",
     "output_type": "stream",
     "text": [
      "0.15392128452980347\n",
      "0.9569517706881829\n"
     ]
    }
   ],
   "source": [
    "from sklearn.metrics import mean_absolute_error,r2_score, make_scorer\n",
    "y_pred_xgb=xgb_model.predict(x_test)\n",
    "print(mean_absolute_error(y_test, y_pred_xgb))\n",
    "print(r2_score(y_test,y_pred_xgb))\n"
   ]
  },
  {
   "cell_type": "code",
   "execution_count": 109,
   "metadata": {},
   "outputs": [
    {
     "name": "stdout",
     "output_type": "stream",
     "text": [
      "LGBMRegressor(learning_rate=0.15, num_leaves=63)\n"
     ]
    }
   ],
   "source": [
    "#use lgb\n",
    "import lightgbm as lgb\n",
    "def build_model_lgb(x_train,y_train):\n",
    "    estimator = lgb.LGBMRegressor(num_leaves=63,n_estimators = 100)\n",
    "    param_grid = {\n",
    "        'learning_rate': [0.01, 0.05 ,0.08,0.1,0.15,0.2,0.25,0.3],\n",
    "    }\n",
    "    model = GridSearchCV(estimator, param_grid)\n",
    "    model.fit(x_train, y_train)\n",
    "    print(model.best_estimator_)\n",
    "    return model\n",
    "lgb_model=build_model_lgb(x_train,y_train)"
   ]
  },
  {
   "cell_type": "code",
   "execution_count": 120,
   "metadata": {},
   "outputs": [
    {
     "name": "stdout",
     "output_type": "stream",
     "text": [
      "0.1395069144593849\n",
      "0.9616107969723712\n"
     ]
    }
   ],
   "source": [
    "from sklearn.metrics import mean_absolute_error,r2_score, make_scorer\n",
    "y_pred_lgb=lgb_model.predict(x_test)\n",
    "print(mean_absolute_error(y_test, y_pred_lgb))\n",
    "print(r2_score(y_test,y_pred_lgb))\n"
   ]
  },
  {
   "cell_type": "code",
   "execution_count": 121,
   "metadata": {},
   "outputs": [
    {
     "name": "stdout",
     "output_type": "stream",
     "text": [
      "MAE of Weighted of val: 0.14216227148659183\n"
     ]
    }
   ],
   "source": [
    "#ensemble\n",
    "def Weighted_method(test_pre1,test_pre2,test_pre3,w=[0.3,0.3,0.4]):\n",
    "    Weighted_result = w[0]*pd.Series(test_pre1)+w[1]*pd.Series(test_pre2)+w[2]*pd.Series(test_pre3)\n",
    "    return Weighted_result\n",
    "w=[0.3,0.3,0.4]\n",
    "val_pre = Weighted_method(y_pred_gbdt,y_pred_xgb,y_pred_lgb,w)\n",
    "MAE_Weighted = mean_absolute_error(y_test,val_pre)\n",
    "print('MAE of Weighted of val:',MAE_Weighted)\n",
    "\n"
   ]
  },
  {
   "cell_type": "code",
   "execution_count": 124,
   "metadata": {},
   "outputs": [],
   "source": [
    "import numpy as np\n",
    "testB_data_x = testB_data.drop(exclude_x_columns,axis=1)\n",
    "result = Weighted_method(xgb_model.predict(testB_data_x),gbdt_model.predict(testB_data_x),lgb_model.predict(testB_data_x))\n",
    "\n",
    "\n",
    "sub = pd.DataFrame()\n",
    "sub['SaleID'] = testB_data[\"SaleID\"]\n",
    "sub['price'] = result.apply(lambda x:np.exp(x)-1)\n",
    "sub.to_csv(r\"C:\\Users\\zhoum\\star\\python\\playground\\docs\\output.csv\")"
   ]
  },
  {
   "cell_type": "code",
   "execution_count": null,
   "metadata": {},
   "outputs": [],
   "source": []
  }
 ],
 "metadata": {
  "kernelspec": {
   "display_name": "Python 3",
   "language": "python",
   "name": "python3"
  },
  "language_info": {
   "codemirror_mode": {
    "name": "ipython",
    "version": 3
   },
   "file_extension": ".py",
   "mimetype": "text/x-python",
   "name": "python",
   "nbconvert_exporter": "python",
   "pygments_lexer": "ipython3",
   "version": "3.8.2"
  }
 },
 "nbformat": 4,
 "nbformat_minor": 4
}
